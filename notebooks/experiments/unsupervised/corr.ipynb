{
 "cells": [
  {
   "cell_type": "code",
   "metadata": {
    "collapsed": true,
    "ExecuteTime": {
     "end_time": "2024-05-05T21:37:54.854498Z",
     "start_time": "2024-05-05T21:37:54.835947Z"
    }
   },
   "source": [
    "%load_ext dotenv\n",
    "%dotenv\n",
    "\n",
    "import os\n",
    "\n",
    "%cd {os.getenv(\"PROJECT_PATH\") or \".\"}\n",
    "\n",
    "%load_ext autoreload\n",
    "%autoreload 1\n",
    "\n",
    "from IPython.display import display"
   ],
   "outputs": [
    {
     "name": "stdout",
     "output_type": "stream",
     "text": [
      "/home/aris/projects/soc_molgen\n"
     ]
    }
   ],
   "execution_count": 1
  },
  {
   "cell_type": "code",
   "metadata": {
    "collapsed": false,
    "ExecuteTime": {
     "end_time": "2024-05-05T21:37:56.724726Z",
     "start_time": "2024-05-05T21:37:54.858732Z"
    }
   },
   "source": [
    "import torch\n",
    "import numpy as np\n",
    "import pandas as pd\n",
    "import matplotlib.pyplot as plt\n",
    "\n",
    "import sys\n",
    "from pathlib import Path\n",
    "from absl import logging\n",
    "from tqdm.notebook import tqdm, trange\n",
    "from timeit import default_timer as timer\n",
    "import pickle\n",
    "from collections import defaultdict\n",
    "\n",
    "logging.set_verbosity(logging.INFO)"
   ],
   "outputs": [],
   "execution_count": 2
  },
  {
   "cell_type": "code",
   "source": [
    "from pandarallel import pandarallel\n",
    "\n",
    "pandarallel.initialize(\n",
    "    nb_workers=os.cpu_count(),\n",
    "    progress_bar=True,\n",
    "    verbose=0\n",
    ")"
   ],
   "metadata": {
    "collapsed": false,
    "ExecuteTime": {
     "end_time": "2024-05-05T21:37:56.737962Z",
     "start_time": "2024-05-05T21:37:56.726140Z"
    }
   },
   "outputs": [],
   "execution_count": 3
  },
  {
   "cell_type": "code",
   "metadata": {
    "collapsed": false,
    "ExecuteTime": {
     "end_time": "2024-05-05T21:37:56.740644Z",
     "start_time": "2024-05-05T21:37:56.738600Z"
    }
   },
   "source": [
    "def show_df(df: pd.DataFrame):\n",
    "    display(df.head())\n",
    "    print(df.shape)"
   ],
   "outputs": [],
   "execution_count": 4
  },
  {
   "cell_type": "code",
   "source": [
    "from rdkit import Chem\n",
    "\n",
    "from src.utils.scores import *\n",
    "from src.vae import load_vae\n",
    "from src.pinn.pde import load_wavepde\n",
    "from src.pinn import VAEGenerator"
   ],
   "metadata": {
    "collapsed": false,
    "ExecuteTime": {
     "end_time": "2024-05-05T21:37:59.197446Z",
     "start_time": "2024-05-05T21:37:56.741565Z"
    }
   },
   "outputs": [
    {
     "name": "stderr",
     "output_type": "stream",
     "text": [
      "Found local copy...\n",
      "Found local copy...\n",
      "Found local copy...\n"
     ]
    }
   ],
   "execution_count": 5
  },
  {
   "cell_type": "code",
   "source": [
    "# df = pd.read_csv('data/interim/corr/hj_unsup_0.1_binding_affinity.csv', index_col=0)\n",
    "df = pd.read_csv('data/interim/corr/wave_unsup_0.1.csv', index_col=0)\n",
    "# df = pd.read_csv('data/interim/corr/vaepde_unsup_0.1.csv', index_col=0)\n",
    "\n",
    "# df['1err'] = df['1err'].apply(lambda x: min(x, 0))\n",
    "# df['2iik'] = df['2iik'].apply(lambda x: min(x, 0))\n",
    "\n",
    "show_df(df)"
   ],
   "metadata": {
    "collapsed": false,
    "ExecuteTime": {
     "end_time": "2024-05-05T21:38:34.695633Z",
     "start_time": "2024-05-05T21:38:34.543151Z"
    }
   },
   "outputs": [
    {
     "data": {
      "text/plain": [
       "   k_idx  idx  t                                             smiles  \\\n",
       "0      0    0  0         COCCNCCCN=CNNC1CNC2N3CN=CC=CN1ONC=CNN2C#C3   \n",
       "1      0    1  0             COCC(N)NC=CN=CNC=NC=C=CNCN=CSN=C[123I]   \n",
       "2      0    2  0      COCCNC=NNC=CNSC1NN=CN=C2OC=CN=C1NNNCN=C2C=CCO   \n",
       "3      0    3  0             COCCCCCC1N=CN2S3(=C)C=COOC1CONNCC=C3N2   \n",
       "4      0    4  0  COCCNCCN(C=NCC=NC1=C=COC=CN)COC(N)C=C=[C@@H1]N=C1   \n",
       "\n",
       "       plogp        sa       qed      drd2  jnk3  gsk3b     uplogp  \n",
       "0 -39.530140  7.182212  0.073608  0.013799  0.06   0.08 -11.428712  \n",
       "1  -4.947651  6.435193  0.061780  0.013203  0.04   0.11  -5.497393  \n",
       "2 -31.870318  6.874465  0.054739  0.018649  0.10   0.12 -10.693365  \n",
       "3 -30.531147  7.382770  0.232168  0.006701  0.04   0.14 -10.406170  \n",
       "4 -36.520394  6.024698  0.296935  0.014221  0.05   0.12  -6.946098  "
      ],
      "text/html": [
       "<div>\n",
       "<style scoped>\n",
       "    .dataframe tbody tr th:only-of-type {\n",
       "        vertical-align: middle;\n",
       "    }\n",
       "\n",
       "    .dataframe tbody tr th {\n",
       "        vertical-align: top;\n",
       "    }\n",
       "\n",
       "    .dataframe thead th {\n",
       "        text-align: right;\n",
       "    }\n",
       "</style>\n",
       "<table border=\"1\" class=\"dataframe\">\n",
       "  <thead>\n",
       "    <tr style=\"text-align: right;\">\n",
       "      <th></th>\n",
       "      <th>k_idx</th>\n",
       "      <th>idx</th>\n",
       "      <th>t</th>\n",
       "      <th>smiles</th>\n",
       "      <th>plogp</th>\n",
       "      <th>sa</th>\n",
       "      <th>qed</th>\n",
       "      <th>drd2</th>\n",
       "      <th>jnk3</th>\n",
       "      <th>gsk3b</th>\n",
       "      <th>uplogp</th>\n",
       "    </tr>\n",
       "  </thead>\n",
       "  <tbody>\n",
       "    <tr>\n",
       "      <th>0</th>\n",
       "      <td>0</td>\n",
       "      <td>0</td>\n",
       "      <td>0</td>\n",
       "      <td>COCCNCCCN=CNNC1CNC2N3CN=CC=CN1ONC=CNN2C#C3</td>\n",
       "      <td>-39.530140</td>\n",
       "      <td>7.182212</td>\n",
       "      <td>0.073608</td>\n",
       "      <td>0.013799</td>\n",
       "      <td>0.06</td>\n",
       "      <td>0.08</td>\n",
       "      <td>-11.428712</td>\n",
       "    </tr>\n",
       "    <tr>\n",
       "      <th>1</th>\n",
       "      <td>0</td>\n",
       "      <td>1</td>\n",
       "      <td>0</td>\n",
       "      <td>COCC(N)NC=CN=CNC=NC=C=CNCN=CSN=C[123I]</td>\n",
       "      <td>-4.947651</td>\n",
       "      <td>6.435193</td>\n",
       "      <td>0.061780</td>\n",
       "      <td>0.013203</td>\n",
       "      <td>0.04</td>\n",
       "      <td>0.11</td>\n",
       "      <td>-5.497393</td>\n",
       "    </tr>\n",
       "    <tr>\n",
       "      <th>2</th>\n",
       "      <td>0</td>\n",
       "      <td>2</td>\n",
       "      <td>0</td>\n",
       "      <td>COCCNC=NNC=CNSC1NN=CN=C2OC=CN=C1NNNCN=C2C=CCO</td>\n",
       "      <td>-31.870318</td>\n",
       "      <td>6.874465</td>\n",
       "      <td>0.054739</td>\n",
       "      <td>0.018649</td>\n",
       "      <td>0.10</td>\n",
       "      <td>0.12</td>\n",
       "      <td>-10.693365</td>\n",
       "    </tr>\n",
       "    <tr>\n",
       "      <th>3</th>\n",
       "      <td>0</td>\n",
       "      <td>3</td>\n",
       "      <td>0</td>\n",
       "      <td>COCCCCCC1N=CN2S3(=C)C=COOC1CONNCC=C3N2</td>\n",
       "      <td>-30.531147</td>\n",
       "      <td>7.382770</td>\n",
       "      <td>0.232168</td>\n",
       "      <td>0.006701</td>\n",
       "      <td>0.04</td>\n",
       "      <td>0.14</td>\n",
       "      <td>-10.406170</td>\n",
       "    </tr>\n",
       "    <tr>\n",
       "      <th>4</th>\n",
       "      <td>0</td>\n",
       "      <td>4</td>\n",
       "      <td>0</td>\n",
       "      <td>COCCNCCN(C=NCC=NC1=C=COC=CN)COC(N)C=C=[C@@H1]N=C1</td>\n",
       "      <td>-36.520394</td>\n",
       "      <td>6.024698</td>\n",
       "      <td>0.296935</td>\n",
       "      <td>0.014221</td>\n",
       "      <td>0.05</td>\n",
       "      <td>0.12</td>\n",
       "      <td>-6.946098</td>\n",
       "    </tr>\n",
       "  </tbody>\n",
       "</table>\n",
       "</div>"
      ]
     },
     "metadata": {},
     "output_type": "display_data"
    },
    {
     "name": "stdout",
     "output_type": "stream",
     "text": [
      "(100000, 11)\n"
     ]
    }
   ],
   "execution_count": 6
  },
  {
   "cell_type": "code",
   "source": [
    "# PROPS = [\"plogp\", \"sa\", \"qed\", \"drd2\", \"jnk3\", \"gsk3b\", \"uplogp\"]\n",
    "PROPS = ['1err', '2iik']"
   ],
   "metadata": {
    "collapsed": false,
    "ExecuteTime": {
     "end_time": "2024-04-25T10:03:58.166554Z",
     "start_time": "2024-04-25T10:03:58.163468Z"
    }
   },
   "outputs": [],
   "execution_count": 23
  },
  {
   "cell_type": "code",
   "source": [
    "from scipy.stats import pearsonr, spearmanr, linregress\n",
    "\n",
    "def fun(x:pd.DataFrame):\n",
    "    results = []\n",
    "    # for prop in PROPS:\n",
    "    # for j in range(4, 11):\n",
    "    for j in range(5, 7):\n",
    "        r = [\n",
    "            x.iloc[i, j] for i in range(10)\n",
    "        ]\n",
    "        results.append(pearsonr(range(10), r)[0])\n",
    "    s = pd.Series(results, index=PROPS)\n",
    "    \n",
    "    s['invalid'] = x['smiles'].nunique()==1\n",
    "    \n",
    "    return s\n",
    "\n",
    "_df = df.groupby(['k_idx', 'idx']).apply(fun)\n",
    "# _df = df.groupby(['k_idx', 'idx']).apply(fun)\n",
    "\n",
    "show_df(_df)"
   ],
   "metadata": {
    "collapsed": false,
    "ExecuteTime": {
     "end_time": "2024-04-25T10:04:02.432620Z",
     "start_time": "2024-04-25T10:04:01.778764Z"
    }
   },
   "outputs": [
    {
     "data": {
      "text/plain": [
       "               1err      2iik  invalid\n",
       "k_idx idx                             \n",
       "0     0    0.347328  0.740238    False\n",
       "      1   -0.524071 -0.583337    False\n",
       "      2    0.561304  0.044214    False\n",
       "      3   -0.452046 -0.494362    False\n",
       "      4   -0.328536 -0.328957    False"
      ],
      "text/html": [
       "<div>\n",
       "<style scoped>\n",
       "    .dataframe tbody tr th:only-of-type {\n",
       "        vertical-align: middle;\n",
       "    }\n",
       "\n",
       "    .dataframe tbody tr th {\n",
       "        vertical-align: top;\n",
       "    }\n",
       "\n",
       "    .dataframe thead th {\n",
       "        text-align: right;\n",
       "    }\n",
       "</style>\n",
       "<table border=\"1\" class=\"dataframe\">\n",
       "  <thead>\n",
       "    <tr style=\"text-align: right;\">\n",
       "      <th></th>\n",
       "      <th></th>\n",
       "      <th>1err</th>\n",
       "      <th>2iik</th>\n",
       "      <th>invalid</th>\n",
       "    </tr>\n",
       "    <tr>\n",
       "      <th>k_idx</th>\n",
       "      <th>idx</th>\n",
       "      <th></th>\n",
       "      <th></th>\n",
       "      <th></th>\n",
       "    </tr>\n",
       "  </thead>\n",
       "  <tbody>\n",
       "    <tr>\n",
       "      <th rowspan=\"5\" valign=\"top\">0</th>\n",
       "      <th>0</th>\n",
       "      <td>0.347328</td>\n",
       "      <td>0.740238</td>\n",
       "      <td>False</td>\n",
       "    </tr>\n",
       "    <tr>\n",
       "      <th>1</th>\n",
       "      <td>-0.524071</td>\n",
       "      <td>-0.583337</td>\n",
       "      <td>False</td>\n",
       "    </tr>\n",
       "    <tr>\n",
       "      <th>2</th>\n",
       "      <td>0.561304</td>\n",
       "      <td>0.044214</td>\n",
       "      <td>False</td>\n",
       "    </tr>\n",
       "    <tr>\n",
       "      <th>3</th>\n",
       "      <td>-0.452046</td>\n",
       "      <td>-0.494362</td>\n",
       "      <td>False</td>\n",
       "    </tr>\n",
       "    <tr>\n",
       "      <th>4</th>\n",
       "      <td>-0.328536</td>\n",
       "      <td>-0.328957</td>\n",
       "      <td>False</td>\n",
       "    </tr>\n",
       "  </tbody>\n",
       "</table>\n",
       "</div>"
      ]
     },
     "metadata": {},
     "output_type": "display_data"
    },
    {
     "name": "stdout",
     "output_type": "stream",
     "text": [
      "(320, 3)\n"
     ]
    }
   ],
   "execution_count": 24
  },
  {
   "cell_type": "code",
   "source": [
    "# df_result = _df.query('not invalid').fillna(0)\n",
    "df_result = _df.fillna(0)\n",
    "\n",
    "# show_df(df_result)\n",
    "\n",
    "print(df_result.shape)"
   ],
   "metadata": {
    "collapsed": false,
    "ExecuteTime": {
     "end_time": "2024-04-25T10:04:04.536973Z",
     "start_time": "2024-04-25T10:04:04.533621Z"
    }
   },
   "outputs": [
    {
     "name": "stdout",
     "output_type": "stream",
     "text": [
      "(320, 3)\n"
     ]
    }
   ],
   "execution_count": 25
  },
  {
   "metadata": {},
   "cell_type": "code",
   "outputs": [
    {
     "data": {
      "text/plain": [
       "           1err      2iik  invalid\n",
       "k_idx                             \n",
       "0     -0.035357  0.044379  0.00000\n",
       "1      0.136023  0.117031  0.00000\n",
       "2      0.061426  0.170072  0.00000\n",
       "3      0.031710 -0.011199  0.03125\n",
       "4      0.068465  0.100757  0.00000\n",
       "5      0.044266  0.006321  0.53125\n",
       "6     -0.122531  0.093452  0.00000\n",
       "7      0.129196  0.172424  0.00000\n",
       "8     -0.011588  0.121669  0.06250\n",
       "9     -0.029899  0.099562  0.00000"
      ],
      "text/html": [
       "<div>\n",
       "<style scoped>\n",
       "    .dataframe tbody tr th:only-of-type {\n",
       "        vertical-align: middle;\n",
       "    }\n",
       "\n",
       "    .dataframe tbody tr th {\n",
       "        vertical-align: top;\n",
       "    }\n",
       "\n",
       "    .dataframe thead th {\n",
       "        text-align: right;\n",
       "    }\n",
       "</style>\n",
       "<table border=\"1\" class=\"dataframe\">\n",
       "  <thead>\n",
       "    <tr style=\"text-align: right;\">\n",
       "      <th></th>\n",
       "      <th>1err</th>\n",
       "      <th>2iik</th>\n",
       "      <th>invalid</th>\n",
       "    </tr>\n",
       "    <tr>\n",
       "      <th>k_idx</th>\n",
       "      <th></th>\n",
       "      <th></th>\n",
       "      <th></th>\n",
       "    </tr>\n",
       "  </thead>\n",
       "  <tbody>\n",
       "    <tr>\n",
       "      <th>0</th>\n",
       "      <td>-0.035357</td>\n",
       "      <td>0.044379</td>\n",
       "      <td>0.00000</td>\n",
       "    </tr>\n",
       "    <tr>\n",
       "      <th>1</th>\n",
       "      <td>0.136023</td>\n",
       "      <td>0.117031</td>\n",
       "      <td>0.00000</td>\n",
       "    </tr>\n",
       "    <tr>\n",
       "      <th>2</th>\n",
       "      <td>0.061426</td>\n",
       "      <td>0.170072</td>\n",
       "      <td>0.00000</td>\n",
       "    </tr>\n",
       "    <tr>\n",
       "      <th>3</th>\n",
       "      <td>0.031710</td>\n",
       "      <td>-0.011199</td>\n",
       "      <td>0.03125</td>\n",
       "    </tr>\n",
       "    <tr>\n",
       "      <th>4</th>\n",
       "      <td>0.068465</td>\n",
       "      <td>0.100757</td>\n",
       "      <td>0.00000</td>\n",
       "    </tr>\n",
       "    <tr>\n",
       "      <th>5</th>\n",
       "      <td>0.044266</td>\n",
       "      <td>0.006321</td>\n",
       "      <td>0.53125</td>\n",
       "    </tr>\n",
       "    <tr>\n",
       "      <th>6</th>\n",
       "      <td>-0.122531</td>\n",
       "      <td>0.093452</td>\n",
       "      <td>0.00000</td>\n",
       "    </tr>\n",
       "    <tr>\n",
       "      <th>7</th>\n",
       "      <td>0.129196</td>\n",
       "      <td>0.172424</td>\n",
       "      <td>0.00000</td>\n",
       "    </tr>\n",
       "    <tr>\n",
       "      <th>8</th>\n",
       "      <td>-0.011588</td>\n",
       "      <td>0.121669</td>\n",
       "      <td>0.06250</td>\n",
       "    </tr>\n",
       "    <tr>\n",
       "      <th>9</th>\n",
       "      <td>-0.029899</td>\n",
       "      <td>0.099562</td>\n",
       "      <td>0.00000</td>\n",
       "    </tr>\n",
       "  </tbody>\n",
       "</table>\n",
       "</div>"
      ]
     },
     "execution_count": 26,
     "metadata": {},
     "output_type": "execute_result"
    }
   ],
   "execution_count": 26,
   "source": "df_result.groupby('k_idx').mean()"
  },
  {
   "metadata": {},
   "cell_type": "code",
   "outputs": [],
   "execution_count": null,
   "source": ""
  }
 ],
 "metadata": {
  "kernelspec": {
   "display_name": "Python 3",
   "language": "python",
   "name": "python3"
  },
  "language_info": {
   "codemirror_mode": {
    "name": "ipython",
    "version": 2
   },
   "file_extension": ".py",
   "mimetype": "text/x-python",
   "name": "python",
   "nbconvert_exporter": "python",
   "pygments_lexer": "ipython2",
   "version": "2.7.6"
  }
 },
 "nbformat": 4,
 "nbformat_minor": 0
}
