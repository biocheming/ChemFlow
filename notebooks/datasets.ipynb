{
 "cells": [
  {
   "cell_type": "code",
   "execution_count": 1,
   "metadata": {
    "collapsed": true,
    "ExecuteTime": {
     "end_time": "2024-02-12T19:25:25.874410576Z",
     "start_time": "2024-02-12T19:25:25.873358400Z"
    }
   },
   "outputs": [
    {
     "name": "stdout",
     "output_type": "stream",
     "text": [
      "/home/aris/projects/soc_molgen\n"
     ]
    }
   ],
   "source": [
    "%load_ext dotenv\n",
    "%dotenv\n",
    "\n",
    "import os\n",
    "\n",
    "%cd {os.getenv(\"PROJECT_PATH\") or \".\"}\n",
    "\n",
    "%load_ext autoreload\n",
    "%autoreload 1\n",
    "\n",
    "from IPython.display import display"
   ]
  },
  {
   "cell_type": "code",
   "execution_count": 2,
   "metadata": {
    "collapsed": false,
    "ExecuteTime": {
     "end_time": "2024-02-12T19:25:27.911100245Z",
     "start_time": "2024-02-12T19:25:25.873566693Z"
    }
   },
   "outputs": [],
   "source": [
    "import torch\n",
    "import numpy as np\n",
    "import pandas as pd\n",
    "import matplotlib.pyplot as plt\n",
    "import seaborn as sns\n",
    "\n",
    "import sys\n",
    "from pathlib import Path\n",
    "from absl import logging\n",
    "from tqdm.notebook import tqdm, trange\n",
    "from timeit import default_timer as timer\n",
    "import pickle\n",
    "from collections import defaultdict\n",
    "\n",
    "logging.set_verbosity(logging.INFO)\n",
    "\n",
    "sns.set_context(\"notebook\")"
   ]
  },
  {
   "cell_type": "code",
   "execution_count": 3,
   "outputs": [
    {
     "name": "stdout",
     "output_type": "stream",
     "text": [
      "INFO: Pandarallel will run on 32 workers.\n",
      "INFO: Pandarallel will use Memory file system to transfer data between the main process and workers.\n"
     ]
    }
   ],
   "source": [
    "from pandarallel import pandarallel\n",
    "\n",
    "pandarallel.initialize(\n",
    "    nb_workers=os.cpu_count(),\n",
    "    progress_bar=True,\n",
    "    verbose=2\n",
    ")"
   ],
   "metadata": {
    "collapsed": false,
    "ExecuteTime": {
     "end_time": "2024-02-12T19:25:27.936608294Z",
     "start_time": "2024-02-12T19:25:27.912613597Z"
    }
   }
  },
  {
   "cell_type": "code",
   "execution_count": 4,
   "metadata": {
    "collapsed": false,
    "ExecuteTime": {
     "end_time": "2024-02-12T19:25:27.966636983Z",
     "start_time": "2024-02-12T19:25:27.931623628Z"
    }
   },
   "outputs": [],
   "source": [
    "def show_df(df: pd.DataFrame):\n",
    "    display(df.head())\n",
    "    print(df.shape)"
   ]
  },
  {
   "cell_type": "code",
   "outputs": [
    {
     "data": {
      "text/plain": "                                              smiles     logP       qed  \\\n0            CC(C)(C)c1ccc2occ(CC(=O)Nc3ccccc3F)c2c1  5.05060  0.702012   \n1       C[C@@H]1CC(Nc2cncc(-c3nncn3C)c2)C[C@@H](C)C1  3.11370  0.928975   \n2  N#Cc1ccc(-c2ccc(O[C@@H](C(=O)N3CCCC3)c3ccccc3)...  4.96778  0.599682   \n3  CCOC(=O)[C@@H]1CCCN(C(=O)c2nc(-c3ccc(C)cc3)n3c...  4.00022  0.690944   \n4  N#CC1=C(SCC(=O)Nc2cccc(Cl)c2)N=C([O-])[C@H](C#...  3.60956  0.789027   \n\n        SAS    source  \n0  2.084095  zinc250k  \n1  3.432004  zinc250k  \n2  2.470633  zinc250k  \n3  2.822753  zinc250k  \n4  4.035182  zinc250k  ",
      "text/html": "<div>\n<style scoped>\n    .dataframe tbody tr th:only-of-type {\n        vertical-align: middle;\n    }\n\n    .dataframe tbody tr th {\n        vertical-align: top;\n    }\n\n    .dataframe thead th {\n        text-align: right;\n    }\n</style>\n<table border=\"1\" class=\"dataframe\">\n  <thead>\n    <tr style=\"text-align: right;\">\n      <th></th>\n      <th>smiles</th>\n      <th>logP</th>\n      <th>qed</th>\n      <th>SAS</th>\n      <th>source</th>\n    </tr>\n  </thead>\n  <tbody>\n    <tr>\n      <th>0</th>\n      <td>CC(C)(C)c1ccc2occ(CC(=O)Nc3ccccc3F)c2c1</td>\n      <td>5.05060</td>\n      <td>0.702012</td>\n      <td>2.084095</td>\n      <td>zinc250k</td>\n    </tr>\n    <tr>\n      <th>1</th>\n      <td>C[C@@H]1CC(Nc2cncc(-c3nncn3C)c2)C[C@@H](C)C1</td>\n      <td>3.11370</td>\n      <td>0.928975</td>\n      <td>3.432004</td>\n      <td>zinc250k</td>\n    </tr>\n    <tr>\n      <th>2</th>\n      <td>N#Cc1ccc(-c2ccc(O[C@@H](C(=O)N3CCCC3)c3ccccc3)...</td>\n      <td>4.96778</td>\n      <td>0.599682</td>\n      <td>2.470633</td>\n      <td>zinc250k</td>\n    </tr>\n    <tr>\n      <th>3</th>\n      <td>CCOC(=O)[C@@H]1CCCN(C(=O)c2nc(-c3ccc(C)cc3)n3c...</td>\n      <td>4.00022</td>\n      <td>0.690944</td>\n      <td>2.822753</td>\n      <td>zinc250k</td>\n    </tr>\n    <tr>\n      <th>4</th>\n      <td>N#CC1=C(SCC(=O)Nc2cccc(Cl)c2)N=C([O-])[C@H](C#...</td>\n      <td>3.60956</td>\n      <td>0.789027</td>\n      <td>4.035182</td>\n      <td>zinc250k</td>\n    </tr>\n  </tbody>\n</table>\n</div>"
     },
     "metadata": {},
     "output_type": "display_data"
    },
    {
     "name": "stdout",
     "output_type": "stream",
     "text": [
      "(249455, 5)\n"
     ]
    }
   ],
   "source": [
    "df_zinc250k = pd.read_csv(\"data/raw/zinc250k.csv\", index_col=0)\n",
    "df_zinc250k['source'] = \"zinc250k\"\n",
    "\n",
    "show_df(df_zinc250k)"
   ],
   "metadata": {
    "collapsed": false,
    "ExecuteTime": {
     "end_time": "2024-02-12T19:25:28.238245011Z",
     "start_time": "2024-02-12T19:25:27.934150826Z"
    }
   },
   "execution_count": 5
  },
  {
   "cell_type": "code",
   "outputs": [
    {
     "data": {
      "text/plain": "                                   smiles  SPLIT source\n0  CCCS(=O)c1ccc2[nH]c(=NC(=O)OC)[nH]c2c1  train  moses\n1    CC(C)(C)C(=O)C(Oc1ccc(Cl)cc1)n1ccnc1  train  moses\n2  CC1C2CCC(C2)C1CN(CCO)C(=O)c1ccc(Cl)cc1   test  moses\n3     Cc1c(Cl)cccc1Nc1ncccc1C(=O)OCC(O)CO  train  moses\n4        Cn1cnc2c1c(=O)n(CC(O)CO)c(=O)n2C  train  moses",
      "text/html": "<div>\n<style scoped>\n    .dataframe tbody tr th:only-of-type {\n        vertical-align: middle;\n    }\n\n    .dataframe tbody tr th {\n        vertical-align: top;\n    }\n\n    .dataframe thead th {\n        text-align: right;\n    }\n</style>\n<table border=\"1\" class=\"dataframe\">\n  <thead>\n    <tr style=\"text-align: right;\">\n      <th></th>\n      <th>smiles</th>\n      <th>SPLIT</th>\n      <th>source</th>\n    </tr>\n  </thead>\n  <tbody>\n    <tr>\n      <th>0</th>\n      <td>CCCS(=O)c1ccc2[nH]c(=NC(=O)OC)[nH]c2c1</td>\n      <td>train</td>\n      <td>moses</td>\n    </tr>\n    <tr>\n      <th>1</th>\n      <td>CC(C)(C)C(=O)C(Oc1ccc(Cl)cc1)n1ccnc1</td>\n      <td>train</td>\n      <td>moses</td>\n    </tr>\n    <tr>\n      <th>2</th>\n      <td>CC1C2CCC(C2)C1CN(CCO)C(=O)c1ccc(Cl)cc1</td>\n      <td>test</td>\n      <td>moses</td>\n    </tr>\n    <tr>\n      <th>3</th>\n      <td>Cc1c(Cl)cccc1Nc1ncccc1C(=O)OCC(O)CO</td>\n      <td>train</td>\n      <td>moses</td>\n    </tr>\n    <tr>\n      <th>4</th>\n      <td>Cn1cnc2c1c(=O)n(CC(O)CO)c(=O)n2C</td>\n      <td>train</td>\n      <td>moses</td>\n    </tr>\n  </tbody>\n</table>\n</div>"
     },
     "metadata": {},
     "output_type": "display_data"
    },
    {
     "name": "stdout",
     "output_type": "stream",
     "text": [
      "(1936962, 3)\n"
     ]
    }
   ],
   "source": [
    "df_moses = pd.read_csv(\"data/raw/moses.csv\").rename(columns={\"SMILES\": \"smiles\"})\n",
    "df_moses['source'] = \"moses\"\n",
    "\n",
    "show_df(df_moses)"
   ],
   "metadata": {
    "collapsed": false,
    "ExecuteTime": {
     "end_time": "2024-02-12T19:25:30.000417251Z",
     "start_time": "2024-02-12T19:25:28.553646347Z"
    }
   },
   "execution_count": 6
  },
  {
   "cell_type": "code",
   "outputs": [
    {
     "data": {
      "text/plain": "                                                         smiles  \\\nchembl_id                                                         \nCHEMBL153534                       Cc1cc(-c2csc(N=C(N)N)n2)cn1C   \nCHEMBL440060  CC[C@H](C)[C@H](NC(=O)[C@H](CC(C)C)NC(=O)[C@@H...   \nCHEMBL440245  CCCC[C@@H]1NC(=O)[C@@H](NC(=O)[C@H](CC(C)C)NC(...   \nCHEMBL440249  CC(C)C[C@@H]1NC(=O)CNC(=O)[C@H](c2ccc(O)cc2)NC...   \nCHEMBL405398             Brc1cccc(Nc2ncnc3ccncc23)c1NCCN1CCOCC1   \n\n                                                 standard_inchi  \\\nchembl_id                                                         \nCHEMBL153534  InChI=1S/C10H13N5S/c1-6-3-7(4-15(6)2)8-5-16-10...   \nCHEMBL440060  InChI=1S/C123H212N44O34S/c1-19-63(12)96(164-11...   \nCHEMBL440245  InChI=1S/C160H268N50O41/c1-23-27-41-95-134(228...   \nCHEMBL440249  InChI=1S/C124H154ClN21O39/c1-57(2)48-81-112(17...   \nCHEMBL405398  InChI=1S/C19H21BrN6O/c20-15-2-1-3-17(18(15)22-...   \n\n                       standard_inchi_key  source  \nchembl_id                                          \nCHEMBL153534  MFRNFCWYPYSFQQ-UHFFFAOYSA-N  chembl  \nCHEMBL440060  RSEQNZQKBMRQNM-VRGFNVLHSA-N  chembl  \nCHEMBL440245  FTKBTEIKPOYCEX-OZSLQWTKSA-N  chembl  \nCHEMBL440249  UYSXXKGACMHPIM-KFGDMSGDSA-N  chembl  \nCHEMBL405398  VDSXZXJEWIWBCG-UHFFFAOYSA-N  chembl  ",
      "text/html": "<div>\n<style scoped>\n    .dataframe tbody tr th:only-of-type {\n        vertical-align: middle;\n    }\n\n    .dataframe tbody tr th {\n        vertical-align: top;\n    }\n\n    .dataframe thead th {\n        text-align: right;\n    }\n</style>\n<table border=\"1\" class=\"dataframe\">\n  <thead>\n    <tr style=\"text-align: right;\">\n      <th></th>\n      <th>smiles</th>\n      <th>standard_inchi</th>\n      <th>standard_inchi_key</th>\n      <th>source</th>\n    </tr>\n    <tr>\n      <th>chembl_id</th>\n      <th></th>\n      <th></th>\n      <th></th>\n      <th></th>\n    </tr>\n  </thead>\n  <tbody>\n    <tr>\n      <th>CHEMBL153534</th>\n      <td>Cc1cc(-c2csc(N=C(N)N)n2)cn1C</td>\n      <td>InChI=1S/C10H13N5S/c1-6-3-7(4-15(6)2)8-5-16-10...</td>\n      <td>MFRNFCWYPYSFQQ-UHFFFAOYSA-N</td>\n      <td>chembl</td>\n    </tr>\n    <tr>\n      <th>CHEMBL440060</th>\n      <td>CC[C@H](C)[C@H](NC(=O)[C@H](CC(C)C)NC(=O)[C@@H...</td>\n      <td>InChI=1S/C123H212N44O34S/c1-19-63(12)96(164-11...</td>\n      <td>RSEQNZQKBMRQNM-VRGFNVLHSA-N</td>\n      <td>chembl</td>\n    </tr>\n    <tr>\n      <th>CHEMBL440245</th>\n      <td>CCCC[C@@H]1NC(=O)[C@@H](NC(=O)[C@H](CC(C)C)NC(...</td>\n      <td>InChI=1S/C160H268N50O41/c1-23-27-41-95-134(228...</td>\n      <td>FTKBTEIKPOYCEX-OZSLQWTKSA-N</td>\n      <td>chembl</td>\n    </tr>\n    <tr>\n      <th>CHEMBL440249</th>\n      <td>CC(C)C[C@@H]1NC(=O)CNC(=O)[C@H](c2ccc(O)cc2)NC...</td>\n      <td>InChI=1S/C124H154ClN21O39/c1-57(2)48-81-112(17...</td>\n      <td>UYSXXKGACMHPIM-KFGDMSGDSA-N</td>\n      <td>chembl</td>\n    </tr>\n    <tr>\n      <th>CHEMBL405398</th>\n      <td>Brc1cccc(Nc2ncnc3ccncc23)c1NCCN1CCOCC1</td>\n      <td>InChI=1S/C19H21BrN6O/c20-15-2-1-3-17(18(15)22-...</td>\n      <td>VDSXZXJEWIWBCG-UHFFFAOYSA-N</td>\n      <td>chembl</td>\n    </tr>\n  </tbody>\n</table>\n</div>"
     },
     "metadata": {},
     "output_type": "display_data"
    },
    {
     "name": "stdout",
     "output_type": "stream",
     "text": [
      "(2372674, 4)\n"
     ]
    }
   ],
   "source": [
    "df_chembl = pd.read_csv(\"data/raw/chembl_33_chemreps.txt\", sep=\"\\t\", index_col=0).rename(columns={\"canonical_smiles\": \"smiles\"})\n",
    "df_chembl['source'] = \"chembl\"\n",
    "\n",
    "show_df(df_chembl)"
   ],
   "metadata": {
    "collapsed": false,
    "ExecuteTime": {
     "end_time": "2024-02-12T19:25:38.830303852Z",
     "start_time": "2024-02-12T19:25:30.001312554Z"
    }
   },
   "execution_count": 7
  },
  {
   "cell_type": "code",
   "outputs": [],
   "source": [
    "# df_chembl.canonical_smiles.to_csv(\"data/processed/chembl.smi\", index=False, header=False)"
   ],
   "metadata": {
    "collapsed": false,
    "ExecuteTime": {
     "end_time": "2024-02-12T19:25:38.837061746Z",
     "start_time": "2024-02-12T19:25:38.831818216Z"
    }
   },
   "execution_count": 8
  },
  {
   "cell_type": "code",
   "outputs": [
    {
     "data": {
      "text/plain": "                               smiles  source\n0               B.CC(=O)OC1CN2CCC1CC2  chembl\n1           B.CP(c1ccccc1)c1ccc(O)cc1  chembl\n2    B.Oc1ccc(P(c2ccccc2)c2ccccc2)cc1  chembl\n3  BC#N.BC#N.CN(C)CCCCCCCCCCCCCCN(C)C  chembl\n4    BC#N.BC#N.CN(C)CCCCCCCCCCCCN(C)C  chembl",
      "text/html": "<div>\n<style scoped>\n    .dataframe tbody tr th:only-of-type {\n        vertical-align: middle;\n    }\n\n    .dataframe tbody tr th {\n        vertical-align: top;\n    }\n\n    .dataframe thead th {\n        text-align: right;\n    }\n</style>\n<table border=\"1\" class=\"dataframe\">\n  <thead>\n    <tr style=\"text-align: right;\">\n      <th></th>\n      <th>smiles</th>\n      <th>source</th>\n    </tr>\n  </thead>\n  <tbody>\n    <tr>\n      <th>0</th>\n      <td>B.CC(=O)OC1CN2CCC1CC2</td>\n      <td>chembl</td>\n    </tr>\n    <tr>\n      <th>1</th>\n      <td>B.CP(c1ccccc1)c1ccc(O)cc1</td>\n      <td>chembl</td>\n    </tr>\n    <tr>\n      <th>2</th>\n      <td>B.Oc1ccc(P(c2ccccc2)c2ccccc2)cc1</td>\n      <td>chembl</td>\n    </tr>\n    <tr>\n      <th>3</th>\n      <td>BC#N.BC#N.CN(C)CCCCCCCCCCCCCCN(C)C</td>\n      <td>chembl</td>\n    </tr>\n    <tr>\n      <th>4</th>\n      <td>BC#N.BC#N.CN(C)CCCCCCCCCCCCN(C)C</td>\n      <td>chembl</td>\n    </tr>\n  </tbody>\n</table>\n</div>"
     },
     "metadata": {},
     "output_type": "display_data"
    },
    {
     "name": "stdout",
     "output_type": "stream",
     "text": [
      "(4558945, 2)\n"
     ]
    }
   ],
   "source": [
    "df_smiles = pd.concat([df_moses, df_chembl, df_zinc250k], axis=0, ignore_index=True)\n",
    "df_smiles = df_smiles[['smiles', 'source']]\n",
    "df_smiles = df_smiles.dropna().drop_duplicates().sort_values(by=\"smiles\").reset_index(drop=True)\n",
    "\n",
    "show_df(df_smiles)"
   ],
   "metadata": {
    "collapsed": false,
    "ExecuteTime": {
     "end_time": "2024-02-12T19:26:04.453314215Z",
     "start_time": "2024-02-12T19:25:50.939790290Z"
    }
   },
   "execution_count": 9
  },
  {
   "cell_type": "code",
   "outputs": [
    {
     "data": {
      "text/plain": "                                               smiles  source\n28                     BOP(=O)(O)COCCn1cnc2c(N)ncnc21  chembl\n29              BOP(=O)(O)CO[C@H](C)Cn1cnc2c(N)ncnc21  chembl\n30    BP(=O)(COCCn1cnc2c(N)ncnc21)OP(=O)(O)OP(=O)(O)O  chembl\n31  BP(=O)(CO[C@H](C)Cn1cnc2c(N)ncnc21)OP(=O)(O)OP...  chembl\n32  BP(=O)(O)CC[C@@H]1C=C[C@H](n2cc(C)c(=O)[nH]c2=...  chembl",
      "text/html": "<div>\n<style scoped>\n    .dataframe tbody tr th:only-of-type {\n        vertical-align: middle;\n    }\n\n    .dataframe tbody tr th {\n        vertical-align: top;\n    }\n\n    .dataframe thead th {\n        text-align: right;\n    }\n</style>\n<table border=\"1\" class=\"dataframe\">\n  <thead>\n    <tr style=\"text-align: right;\">\n      <th></th>\n      <th>smiles</th>\n      <th>source</th>\n    </tr>\n  </thead>\n  <tbody>\n    <tr>\n      <th>28</th>\n      <td>BOP(=O)(O)COCCn1cnc2c(N)ncnc21</td>\n      <td>chembl</td>\n    </tr>\n    <tr>\n      <th>29</th>\n      <td>BOP(=O)(O)CO[C@H](C)Cn1cnc2c(N)ncnc21</td>\n      <td>chembl</td>\n    </tr>\n    <tr>\n      <th>30</th>\n      <td>BP(=O)(COCCn1cnc2c(N)ncnc21)OP(=O)(O)OP(=O)(O)O</td>\n      <td>chembl</td>\n    </tr>\n    <tr>\n      <th>31</th>\n      <td>BP(=O)(CO[C@H](C)Cn1cnc2c(N)ncnc21)OP(=O)(O)OP...</td>\n      <td>chembl</td>\n    </tr>\n    <tr>\n      <th>32</th>\n      <td>BP(=O)(O)CC[C@@H]1C=C[C@H](n2cc(C)c(=O)[nH]c2=...</td>\n      <td>chembl</td>\n    </tr>\n  </tbody>\n</table>\n</div>"
     },
     "metadata": {},
     "output_type": "display_data"
    },
    {
     "name": "stdout",
     "output_type": "stream",
     "text": [
      "(4445834, 2)\n"
     ]
    }
   ],
   "source": [
    "df_smiles_single = df_smiles[~df_smiles.smiles.str.contains(\"\\.\")]\n",
    "\n",
    "show_df(df_smiles_single)"
   ],
   "metadata": {
    "collapsed": false,
    "ExecuteTime": {
     "end_time": "2024-02-12T19:35:09.508634960Z",
     "start_time": "2024-02-12T19:35:07.269526571Z"
    }
   },
   "execution_count": 16
  },
  {
   "cell_type": "code",
   "outputs": [
    {
     "data": {
      "text/plain": "VBox(children=(HBox(children=(IntProgress(value=0, description='0.00%', max=138933), Label(value='0 / 138933')…",
      "application/vnd.jupyter.widget-view+json": {
       "version_major": 2,
       "version_minor": 0,
       "model_id": "74aecdc9023145fa93c7ce081b2b857d"
      }
     },
     "metadata": {},
     "output_type": "display_data"
    },
    {
     "data": {
      "text/plain": "    length                                             smiles  source\n28    29.0                     BOP(=O)(O)COCCn1cnc2c(N)ncnc21  chembl\n29    32.0              BOP(=O)(O)CO[C@H](C)Cn1cnc2c(N)ncnc21  chembl\n30    45.0    BP(=O)(COCCn1cnc2c(N)ncnc21)OP(=O)(O)OP(=O)(O)O  chembl\n31    48.0  BP(=O)(CO[C@H](C)Cn1cnc2c(N)ncnc21)OP(=O)(O)OP...  chembl\n32    34.0  BP(=O)(O)CC[C@@H]1C=C[C@H](n2cc(C)c(=O)[nH]c2=...  chembl",
      "text/html": "<div>\n<style scoped>\n    .dataframe tbody tr th:only-of-type {\n        vertical-align: middle;\n    }\n\n    .dataframe tbody tr th {\n        vertical-align: top;\n    }\n\n    .dataframe thead th {\n        text-align: right;\n    }\n</style>\n<table border=\"1\" class=\"dataframe\">\n  <thead>\n    <tr style=\"text-align: right;\">\n      <th></th>\n      <th>length</th>\n      <th>smiles</th>\n      <th>source</th>\n    </tr>\n  </thead>\n  <tbody>\n    <tr>\n      <th>28</th>\n      <td>29.0</td>\n      <td>BOP(=O)(O)COCCn1cnc2c(N)ncnc21</td>\n      <td>chembl</td>\n    </tr>\n    <tr>\n      <th>29</th>\n      <td>32.0</td>\n      <td>BOP(=O)(O)CO[C@H](C)Cn1cnc2c(N)ncnc21</td>\n      <td>chembl</td>\n    </tr>\n    <tr>\n      <th>30</th>\n      <td>45.0</td>\n      <td>BP(=O)(COCCn1cnc2c(N)ncnc21)OP(=O)(O)OP(=O)(O)O</td>\n      <td>chembl</td>\n    </tr>\n    <tr>\n      <th>31</th>\n      <td>48.0</td>\n      <td>BP(=O)(CO[C@H](C)Cn1cnc2c(N)ncnc21)OP(=O)(O)OP...</td>\n      <td>chembl</td>\n    </tr>\n    <tr>\n      <th>32</th>\n      <td>34.0</td>\n      <td>BP(=O)(O)CC[C@@H]1C=C[C@H](n2cc(C)c(=O)[nH]c2=...</td>\n      <td>chembl</td>\n    </tr>\n  </tbody>\n</table>\n</div>"
     },
     "metadata": {},
     "output_type": "display_data"
    },
    {
     "name": "stdout",
     "output_type": "stream",
     "text": [
      "(4445800, 3)\n"
     ]
    }
   ],
   "source": [
    "import selfies as sf\n",
    "\n",
    "def func(x:pd.Series):\n",
    "    try:\n",
    "        selfies = sf.encoder(x['smiles'])\n",
    "        \n",
    "        x['length'] = len(list(sf.split_selfies(selfies)))\n",
    "    except Exception as e:\n",
    "        return x\n",
    "    return x\n",
    "\n",
    "# _df = df_chembl[~df_chembl['canonical_smiles'].str.contains(\"\\.\")].parallel_apply(func, axis=1).dropna()\n",
    "_df_len = df_smiles_single.parallel_apply(func, axis=1).dropna()\n",
    "\n",
    "show_df(_df_len)"
   ],
   "metadata": {
    "collapsed": false,
    "ExecuteTime": {
     "end_time": "2024-02-12T19:44:41.606574713Z",
     "start_time": "2024-02-12T19:41:27.800478209Z"
    }
   },
   "execution_count": 19
  },
  {
   "cell_type": "code",
   "outputs": [
    {
     "data": {
      "text/plain": "count    1.936962e+06\nmean     3.457629e+01\nstd      4.709183e+00\nmin      1.300000e+01\n25%      3.100000e+01\n50%      3.500000e+01\n75%      3.800000e+01\nmax      5.500000e+01\nName: length, dtype: float64"
     },
     "execution_count": 20,
     "metadata": {},
     "output_type": "execute_result"
    }
   ],
   "source": [
    "_df_len.query('source == \"moses\"').length.describe()"
   ],
   "metadata": {
    "collapsed": false,
    "ExecuteTime": {
     "end_time": "2024-02-12T19:44:45.948214637Z",
     "start_time": "2024-02-12T19:44:45.695842699Z"
    }
   },
   "execution_count": 20
  },
  {
   "cell_type": "code",
   "outputs": [
    {
     "data": {
      "text/plain": "count    249455.000000\nmean         37.433597\nstd           8.490383\nmin           8.000000\n25%          32.000000\n50%          37.000000\n75%          43.000000\nmax          72.000000\nName: length, dtype: float64"
     },
     "execution_count": 21,
     "metadata": {},
     "output_type": "execute_result"
    }
   ],
   "source": [
    "_df_len.query('source == \"zinc250k\"').length.describe()"
   ],
   "metadata": {
    "collapsed": false,
    "ExecuteTime": {
     "end_time": "2024-02-12T19:45:02.814432445Z",
     "start_time": "2024-02-12T19:45:02.693929348Z"
    }
   },
   "execution_count": 21
  },
  {
   "cell_type": "code",
   "outputs": [
    {
     "data": {
      "text/plain": "<Axes: >"
     },
     "execution_count": 23,
     "metadata": {},
     "output_type": "execute_result"
    },
    {
     "data": {
      "text/plain": "<Figure size 640x480 with 1 Axes>",
      "image/png": "[encoded data removed]"
     },
     "metadata": {},
     "output_type": "display_data"
    }
   ],
   "source": [
    "_df_len.query('13 <= length <= 72').length.hist(bins=72-13+1)"
   ],
   "metadata": {
    "collapsed": false,
    "ExecuteTime": {
     "end_time": "2024-02-12T19:45:49.575032677Z",
     "start_time": "2024-02-12T19:45:49.067274360Z"
    }
   },
   "execution_count": 23
  },
  {
   "cell_type": "code",
   "outputs": [
    {
     "data": {
      "text/plain": "                                               smiles\n28                     BOP(=O)(O)COCCn1cnc2c(N)ncnc21\n29              BOP(=O)(O)CO[C@H](C)Cn1cnc2c(N)ncnc21\n30    BP(=O)(COCCn1cnc2c(N)ncnc21)OP(=O)(O)OP(=O)(O)O\n31  BP(=O)(CO[C@H](C)Cn1cnc2c(N)ncnc21)OP(=O)(O)OP...\n32  BP(=O)(O)CC[C@@H]1C=C[C@H](n2cc(C)c(=O)[nH]c2=...",
      "text/html": "<div>\n<style scoped>\n    .dataframe tbody tr th:only-of-type {\n        vertical-align: middle;\n    }\n\n    .dataframe tbody tr th {\n        vertical-align: top;\n    }\n\n    .dataframe thead th {\n        text-align: right;\n    }\n</style>\n<table border=\"1\" class=\"dataframe\">\n  <thead>\n    <tr style=\"text-align: right;\">\n      <th></th>\n      <th>smiles</th>\n    </tr>\n  </thead>\n  <tbody>\n    <tr>\n      <th>28</th>\n      <td>BOP(=O)(O)COCCn1cnc2c(N)ncnc21</td>\n    </tr>\n    <tr>\n      <th>29</th>\n      <td>BOP(=O)(O)CO[C@H](C)Cn1cnc2c(N)ncnc21</td>\n    </tr>\n    <tr>\n      <th>30</th>\n      <td>BP(=O)(COCCn1cnc2c(N)ncnc21)OP(=O)(O)OP(=O)(O)O</td>\n    </tr>\n    <tr>\n      <th>31</th>\n      <td>BP(=O)(CO[C@H](C)Cn1cnc2c(N)ncnc21)OP(=O)(O)OP...</td>\n    </tr>\n    <tr>\n      <th>32</th>\n      <td>BP(=O)(O)CC[C@@H]1C=C[C@H](n2cc(C)c(=O)[nH]c2=...</td>\n    </tr>\n  </tbody>\n</table>\n</div>"
     },
     "metadata": {},
     "output_type": "display_data"
    },
    {
     "name": "stdout",
     "output_type": "stream",
     "text": [
      "(4253577, 1)\n"
     ]
    }
   ],
   "source": [
    "df_processed = _df_len.query('13 <= length <= 72').drop(columns=['length', 'source'])\n",
    "\n",
    "show_df(df_processed)"
   ],
   "metadata": {
    "collapsed": false,
    "ExecuteTime": {
     "end_time": "2024-02-12T19:47:31.361353665Z",
     "start_time": "2024-02-12T19:47:30.960446065Z"
    }
   },
   "execution_count": 25
  },
  {
   "cell_type": "code",
   "outputs": [],
   "source": [
    "df_processed.to_csv(\"data/processed/zmc.smi\", index=False, header=False)"
   ],
   "metadata": {
    "collapsed": false,
    "ExecuteTime": {
     "end_time": "2024-02-12T19:47:35.507101686Z",
     "start_time": "2024-02-12T19:47:31.801258659Z"
    }
   },
   "execution_count": 26
  },
  {
   "cell_type": "code",
   "outputs": [],
   "source": [],
   "metadata": {
    "collapsed": false
   }
  }
 ],
 "metadata": {
  "kernelspec": {
   "display_name": "Python 3",
   "language": "python",
   "name": "python3"
  },
  "language_info": {
   "codemirror_mode": {
    "name": "ipython",
    "version": 2
   },
   "file_extension": ".py",
   "mimetype": "text/x-python",
   "name": "python",
   "nbconvert_exporter": "python",
   "pygments_lexer": "ipython2",
   "version": "2.7.6"
  }
 },
 "nbformat": 4,
 "nbformat_minor": 0
}
