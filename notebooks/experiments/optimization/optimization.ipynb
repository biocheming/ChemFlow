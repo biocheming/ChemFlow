{
 "cells": [
  {
   "metadata": {},
   "cell_type": "code",
   "source": [
    "%load_ext dotenv\n",
    "%dotenv\n",
    "\n",
    "import os\n",
    "\n",
    "%cd {os.getenv(\"PROJECT_PATH\") or \".\"}\n",
    "\n",
    "%load_ext autoreload\n",
    "%autoreload 1\n",
    "\n",
    "from IPython.display import display"
   ],
   "execution_count": null,
   "outputs": []
  },
  {
   "cell_type": "code",
   "metadata": {
    "collapsed": false
   },
   "source": [
    "import torch\n",
    "import numpy as np\n",
    "import pandas as pd\n",
    "import matplotlib.pyplot as plt\n",
    "import seaborn as sns\n",
    "\n",
    "import sys\n",
    "from pathlib import Path\n",
    "from absl import logging\n",
    "from tqdm.notebook import tqdm, trange\n",
    "from timeit import default_timer as timer\n",
    "import pickle\n",
    "from collections import defaultdict\n",
    "\n",
    "logging.set_verbosity(logging.INFO)"
   ],
   "execution_count": null,
   "outputs": []
  },
  {
   "cell_type": "code",
   "metadata": {
    "collapsed": false
   },
   "source": [
    "from pandarallel import pandarallel\n",
    "\n",
    "pandarallel.initialize(\n",
    "    nb_workers=os.cpu_count(),\n",
    "    progress_bar=True,\n",
    "    verbose=0\n",
    ")"
   ],
   "execution_count": null,
   "outputs": []
  },
  {
   "cell_type": "code",
   "metadata": {
    "collapsed": false
   },
   "source": [
    "def show_df(df: pd.DataFrame):\n",
    "    display(df.head())\n",
    "    print(df.shape)"
   ],
   "execution_count": null,
   "outputs": []
  },
  {
   "cell_type": "code",
   "metadata": {
    "collapsed": false
   },
   "source": [
    "from rdkit import Chem\n",
    "\n",
    "from src.utils.scores import *\n",
    "from src.vae import load_vae\n",
    "from src.pinn.pde import load_wavepde\n",
    "from src.pinn import VAEGenerator"
   ],
   "execution_count": null,
   "outputs": []
  },
  {
   "cell_type": "code",
   "metadata": {
    "collapsed": false
   },
   "source": [
    "prop = 'qed'\n",
    "reverse = prop in MINIMIZE_PROPS\n",
    "\n",
    "files = [\n",
    "    (f'data/interim/optimization/{prop}_random_0.1_absolute.csv', 'Random'),\n",
    "    (f'data/interim/optimization/{prop}_random_1d_0.1_absolute.csv', 'Random 1D'),\n",
    "    (f'data/interim/optimization/{prop}_limo_0.1_relative.csv', 'Gradient Flow'),\n",
    "    (f'data/interim/optimization/{prop}_chemspace_0.1_absolute.csv', 'ChemSpace'),\n",
    "    (f'data/interim/optimization/{prop}_wave_sup_0.1_relative.csv',\n",
    "     'Wave eqn. (spv)'),\n",
    "    (f'data/interim/optimization/{prop}_wave_unsup_0.1_relative.csv',\n",
    "     'Wave eqn. (unsup)'),\n",
    "    (f'data/interim/optimization/{prop}_hj_sup_0.1_relative.csv', 'HJ eqn. (spv)'),\n",
    "    (f'data/interim/optimization/{prop}_hj_unsup_0.1_relative.csv',\n",
    "     'HJ eqn. (unsup)'),\n",
    "    (f'data/interim/optimization/{prop}_fp_0.1_relative.csv', 'Langevin Dynamics'),\n",
    "]"
   ],
   "execution_count": null,
   "outputs": []
  },
  {
   "cell_type": "code",
   "metadata": {
    "collapsed": false
   },
   "source": [
    "results = []\n",
    "for file, name in files:\n",
    "    df_raw = pd.read_csv(file, index_col=0)\n",
    "    df_init = df_raw.query('t == 0')\n",
    "\n",
    "    n = df_init.shape[0]\n",
    "    steps = df_raw.t.max() + 1\n",
    "\n",
    "\n",
    "    def func(x: pd.Series):\n",
    "        mol = Chem.MolFromSmiles(x['smiles'])\n",
    "\n",
    "        if mol is None:\n",
    "            # x['valid'] = False\n",
    "            return x\n",
    "        # x['valid'] = True\n",
    "        if x['t'] == 0:\n",
    "            x['sim'] = 1\n",
    "            x['delta'] = 0\n",
    "        else:\n",
    "            try:\n",
    "                x['sim'] = ssim(x['smiles'], df_init.loc[x['idx'], 'smiles'])\n",
    "                x['delta'] = x[prop] - df_init.loc[x['idx'], prop]\n",
    "            except Exception as e:\n",
    "                # x['valid'] = False\n",
    "                return x\n",
    "        return x\n",
    "\n",
    "\n",
    "    df_imp = df_raw.parallel_apply(func, axis=1).dropna()\n",
    "\n",
    "    file_path = Path(file)\n",
    "    df_imp.to_csv(file_path.parent / 'sims' / file_path.name)\n",
    "#     for sim in [0, 0.2, 0.4, 0.6]:\n",
    "#         df_imp = df_imp.query(f'sim >= {sim}')\n",
    "#         deltas = torch.zeros((n, steps))\n",
    "#         for _, row in df_imp.iterrows():\n",
    "#             deltas[row['idx'], row['t']] = row['delta']\n",
    "# \n",
    "#         # improvements = torch.cummax(deltas, dim=1).values\n",
    "#         # improvements = improvements[:,-1]\n",
    "#         improvements = torch.max(deltas, dim=1).values\n",
    "# \n",
    "#         succ = (improvements > 0).sum().item() / n\n",
    "#         improvements = improvements[improvements > 0]\n",
    "#         r = f'{improvements.mean().item():.2f} ± {improvements.std().item():.2f} ({succ * 100:.1f})'\n",
    "# \n",
    "#         print(f'{name:<20} {sim:.1f}: {r}')\n",
    "#         \n",
    "#         results.append({\n",
    "#             'name': name,\n",
    "#             'sim': sim,\n",
    "#             'improvement': r\n",
    "#         })\n",
    "# \n",
    "# df_results = pd.DataFrame(results)\n",
    "\n",
    "# show_df(df_results)"
   ],
   "execution_count": null,
   "outputs": []
  },
  {
   "cell_type": "code",
   "metadata": {
    "collapsed": false
   },
   "source": [
    "sim_files = []\n",
    "for file, name in files:\n",
    "    file_path = Path(file)\n",
    "    sim_files.append((file_path.parent / 'sims' / file_path.name, name))\n",
    "\n",
    "print(sim_files)"
   ],
   "execution_count": null,
   "outputs": []
  },
  {
   "cell_type": "code",
   "metadata": {
    "collapsed": false
   },
   "source": [
    "n = 800\n",
    "steps = 1000\n",
    "deltas = torch.zeros((n, steps), device='cuda')\n",
    "results = []\n",
    "\n",
    "for file, name in sim_files:\n",
    "    df = pd.read_csv(file, index_col=0)\n",
    "\n",
    "    for sim in [0, 0.2, 0.4, 0.6]:\n",
    "        df = df.query(f'sim >= {sim}')\n",
    "        deltas.zero_()\n",
    "        for _, row in df.iterrows():\n",
    "            deltas[row['idx'], row['t']] = row['delta']\n",
    "        # improvements = torch.cummax(deltas, dim=1).values\n",
    "        # improvements = improvements[:,-1]\n",
    "        improvements = torch.max(deltas, dim=1).values\n",
    "\n",
    "        succ = (improvements > 0).sum().item() / n\n",
    "        improvements = improvements[improvements > 0]\n",
    "        r = f'{improvements.mean().item():.2f} ± {improvements.std().item():.2f} ({succ * 100:.1f})'\n",
    "\n",
    "        print(f'{name:<20} {sim:.1f}: {r}')\n",
    "\n",
    "        results.append({\n",
    "            'name': name,\n",
    "            'sim': sim,\n",
    "            'improvement': r\n",
    "        })\n",
    "\n",
    "df_results = pd.DataFrame(results)\n",
    "\n",
    "show_df(df_results)"
   ],
   "execution_count": null,
   "outputs": []
  },
  {
   "cell_type": "code",
   "metadata": {
    "collapsed": false
   },
   "source": [
    "results = []\n",
    "for sim in [0, 0.2, 0.4, 0.6]:\n",
    "    row = []\n",
    "    for file, name in sim_files:\n",
    "        row.append(\n",
    "            df_results.query(f'name == \"{name}\" and sim == {sim}').improvement.values[\n",
    "                0])\n",
    "    results.append(row)\n",
    "\n",
    "df_table = pd.DataFrame(results, columns=[name for _, name in sim_files],\n",
    "                        index=[f'{sim:.1f}' for sim in [0, 0.2, 0.4, 0.6]])\n",
    "\n",
    "show_df(df_table)\n",
    "df_table.to_csv(f'data/interim/optimization/{prop}_improvement.csv')"
   ],
   "execution_count": null,
   "outputs": []
  },
  {
   "cell_type": "code",
   "metadata": {
    "collapsed": false
   },
   "source": [
    "# make a df\n",
    "r = []\n",
    "\n",
    "for file, name in sim_files:\n",
    "    # with open(file, 'rb') as f:\n",
    "    #     deltas = pickle.load(f)\n",
    "    # for i in range(len(deltas)):\n",
    "    #     for t in range(len(deltas[i][prop])):\n",
    "    #         r.append({\n",
    "    #             'name': name,\n",
    "    #             'idx': i,\n",
    "    #             't': t,\n",
    "    #             'smiles': deltas[i]['smiles'][t],\n",
    "    #             prop: deltas[i][prop][t],\n",
    "    #             'similarity': deltas[i]['similarity'][t]\n",
    "    #         })\n",
    "    df = pd.read_csv(file, index_col=0)\n",
    "    df['name'] = name\n",
    "    r.append(df)\n",
    "\n",
    "df_all = pd.concat(r)\n",
    "\n",
    "show_df(df_all)"
   ],
   "execution_count": null,
   "outputs": []
  },
  {
   "cell_type": "code",
   "metadata": {
    "collapsed": false
   },
   "source": [
    "df_all.to_csv(f'data/interim/optimization/{prop}_all.csv')"
   ],
   "execution_count": null,
   "outputs": []
  },
  {
   "metadata": {},
   "cell_type": "code",
   "source": [
    "df_all = pd.read_csv(f'data/interim/optimization/{prop}_all.csv', index_col=0)\n",
    "\n",
    "show_df(df_all)"
   ],
   "execution_count": null,
   "outputs": []
  },
  {
   "cell_type": "code",
   "metadata": {
    "collapsed": false
   },
   "source": [
    "sns.set_theme(\n",
    "    context='paper',\n",
    "    style='ticks',\n",
    "    palette='tab10',\n",
    "    font='serif',\n",
    ")\n",
    "\n",
    "# fig, ax = plt.subplots()\n",
    "\n",
    "sup_line = df_all.query('t == 999 and name == \"Langevin Dynamics\"')[prop].mean()\n",
    "\n",
    "_df = df_all.query(\n",
    "    '(t % 100 == 0 or t == 999) and name in [\"Random\", \"ChemSpace\", \"Gradient Flow\", \"Wave eqn. (spv)\", \"Langevin Dynamics\"]')\n",
    "# _df = df_all.query('t % 100 == 0 or t == 999')\n",
    "\n",
    "# set x-axis limits -10 to 10\n",
    "g = sns.displot(_df, x=prop, hue='t', kind='kde', fill=True, col='name', height=2.5,\n",
    "                col_wrap=5, facet_kws={'sharey': False})\n",
    "g.set_titles('{col_name}')\n",
    "g.set_xlabels('plogp')\n",
    "for ax in g.axes.flat:\n",
    "    ax.set_xlim(-12, 5)\n",
    "    #plot vertical line at x=0\n",
    "    ax.axvline(-2.5, color='black', linestyle='--', lw=0.5)\n",
    "g.savefig(f'figures/optimization/{prop}_spv_kde.pdf')\n",
    "g.savefig(f'figures/optimization/{prop}_spv_kde.png')"
   ],
   "execution_count": null,
   "outputs": []
  },
  {
   "cell_type": "code",
   "metadata": {
    "collapsed": false
   },
   "source": [
    "sns.set_theme(\n",
    "    context='paper',\n",
    "    style='ticks',\n",
    "    palette='tab10',\n",
    "    font='serif',\n",
    ")\n",
    "# sns.set_theme()\n",
    "\n",
    "_df = df_all.query('t % 100 == 0 or t == 999')\n",
    "# _df = df_all.query('t % 100 == 0 or t == 999')\n",
    "\n",
    "g = plt = sns.displot(_df, x=prop, hue='t', kind='kde', fill=True, col='name',\n",
    "                      col_wrap=3, height=3, facet_kws={'sharey': False})\n",
    "g.set_titles('{col_name}')\n",
    "g.set_xlabels('QED')\n",
    "# for ax in g.axes.flat:\n",
    "#     ax.set_xlim(-12, 5)\n",
    "#     #plot vertical line at x=0\n",
    "#     ax.axvline(-2.5, color='black', linestyle='--', lw=0.5)\n",
    "g.savefig(f'figures/optimization/{prop}_kde.pdf')\n",
    "g.savefig(f'figures/optimization/{prop}_kde.png')"
   ],
   "execution_count": null,
   "outputs": []
  },
  {
   "cell_type": "code",
   "metadata": {
    "collapsed": false
   },
   "source": [
    "df_all.query('name == \"ChemSpace\" and t == 999').smiles.value_counts()"
   ],
   "execution_count": null,
   "outputs": []
  },
  {
   "cell_type": "code",
   "metadata": {
    "collapsed": false
   },
   "source": [
    "df_all.query('name == \"Langevin Dynamics\" and t == 999').smiles.value_counts()"
   ],
   "execution_count": null,
   "outputs": []
  },
  {
   "cell_type": "code",
   "metadata": {
    "collapsed": false
   },
   "source": [
    "df_all.query('name == \"LIMO\" and t == 999').smiles.value_counts()"
   ],
   "execution_count": null,
   "outputs": []
  },
  {
   "cell_type": "code",
   "metadata": {
    "collapsed": false
   },
   "source": [
    "df_all.query('name == \"Random\" and t == 999').smiles.value_counts()"
   ],
   "execution_count": null,
   "outputs": []
  },
  {
   "cell_type": "code",
   "metadata": {
    "collapsed": false
   },
   "source": [
    "df_all.query('name == \"Wave eqn. (unsup)\" and t == 999').smiles.value_counts()"
   ],
   "execution_count": null,
   "outputs": []
  },
  {
   "cell_type": "code",
   "metadata": {
    "collapsed": false
   },
   "source": [
    "sns.color_palette(\"rocket\")"
   ],
   "execution_count": null,
   "outputs": []
  },
  {
   "cell_type": "code",
   "metadata": {
    "collapsed": false
   },
   "source": [
    "deltas = torch.zeros((n, steps))\n",
    "results = []\n",
    "\n",
    "for file, name in tqdm(sim_files):\n",
    "    df = pd.read_csv(file, index_col=0)\n",
    "\n",
    "    for sim in [0, 0.2, 0.4, 0.6]:\n",
    "        df = df.query(f'sim >= {sim}')\n",
    "        deltas.zero_()\n",
    "        for _, row in df.iterrows():\n",
    "            deltas[row['idx'], row['t']] = row['delta']\n",
    "        improvements = torch.cummax(deltas, dim=1).values.mean(dim=0)  # (steps,)\n",
    "\n",
    "        _df = pd.DataFrame({\n",
    "            't': range(steps),\n",
    "            'improvement': improvements.cpu().numpy(),\n",
    "            'name': name,\n",
    "            'sim': sim\n",
    "        })\n",
    "        results.append(_df)\n",
    "\n",
    "df_results = pd.concat(results)\n",
    "\n",
    "show_df(df_results)"
   ],
   "execution_count": null,
   "outputs": []
  },
  {
   "cell_type": "code",
   "metadata": {
    "collapsed": false
   },
   "source": [
    "sns.set_theme(\n",
    "    context='paper',\n",
    "    style='darkgrid',\n",
    "    palette='tab10',\n",
    "    font='serif',\n",
    ")\n",
    "\n",
    "_df = df_results\n",
    "# _df = df_conv.query('(t % 100 == 0 or t == 999) and name in [\"Random\", \"Langevin Dynamics\"]')\n",
    "\n",
    "# sns.set_theme(context='paper', style='white')\n",
    "# sns.set_theme()\n",
    "\n",
    "g = sns.relplot(\n",
    "    data=_df, x='t', y='improvement', hue='name', col='sim',\n",
    "    kind='line', height=3, errorbar=None, col_wrap=2,\n",
    "    facet_kws={'sharey': False}, aspect=1.5,\n",
    ")\n",
    "# remove legend title\n",
    "g.legend.set_title('')\n",
    "g.set_titles('$\\delta$ = {col_name}')\n",
    "g.set_xlabels('Steps')\n",
    "g.set_ylabels('Improvement in plogp')\n",
    "g.savefig(f'figures/optimization/{prop}_conv.pdf')\n",
    "g.savefig(f'figures/optimization/{prop}_conv.png')"
   ],
   "execution_count": null,
   "outputs": []
  },
  {
   "cell_type": "code",
   "metadata": {
    "collapsed": false
   },
   "source": [],
   "execution_count": null,
   "outputs": []
  }
 ],
 "metadata": {
  "kernelspec": {
   "display_name": "Python 3",
   "language": "python",
   "name": "python3"
  },
  "language_info": {
   "codemirror_mode": {
    "name": "ipython",
    "version": 3
   },
   "file_extension": ".py",
   "mimetype": "text/x-python",
   "name": "python",
   "nbconvert_exporter": "python",
   "pygments_lexer": "ipython3",
   "version": "3.10.13"
  }
 },
 "nbformat": 4,
 "nbformat_minor": 0
}
